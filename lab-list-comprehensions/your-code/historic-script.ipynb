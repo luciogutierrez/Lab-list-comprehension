{
 "metadata": {
  "language_info": {
   "codemirror_mode": {
    "name": "ipython",
    "version": 3
   },
   "file_extension": ".py",
   "mimetype": "text/x-python",
   "name": "python",
   "nbconvert_exporter": "python",
   "pygments_lexer": "ipython3",
   "version": "3.9.1"
  },
  "orig_nbformat": 2,
  "kernelspec": {
   "name": "python391jvsc74a57bd0376f5b0795f81aa7b5d99e448d6274743a66c9892fd26cf11e505993f41df5fa",
   "display_name": "Python 3.9.1 64-bit"
  }
 },
 "nbformat": 4,
 "nbformat_minor": 2,
 "cells": [
  {
   "source": [
    "# Using intellisence to get help"
   ],
   "cell_type": "markdown",
   "metadata": {}
  },
  {
   "cell_type": "code",
   "execution_count": 1,
   "metadata": {},
   "outputs": [
    {
     "output_type": "stream",
     "name": "stdout",
     "text": [
      "[1 2 3 4] [1.         1.41421356 1.73205081 2.        ] [0.         0.69314718 1.09861229 1.38629436]\n"
     ]
    }
   ],
   "source": [
    "import sys\n",
    "import getopt\n",
    "from os import path\n",
    "import numpy as np\n",
    "import pandas as pd\n",
    "from math import log, sqrt\n",
    "\n",
    "opts, args = getopt.getopt(sys.argv, \"?hH\")\n",
    "\n",
    "x = np.array([1, 2, 3, 4])\n",
    "y = np.array([sqrt(i) for i in x])\n",
    "w = np.array([log(i) for i in x])\n",
    "#z = pd.DataFrame(x)\n",
    "\n",
    "print(x, y, w)"
   ]
  },
  {
   "source": [
    "# Jupyter code cell over python file .py"
   ],
   "cell_type": "markdown",
   "metadata": {}
  },
  {
   "cell_type": "code",
   "execution_count": 3,
   "metadata": {},
   "outputs": [
    {
     "output_type": "stream",
     "name": "stdout",
     "text": [
      "Hello world\nHola Mundo\nhola\n"
     ]
    }
   ],
   "source": [
    "\n",
    "# %%\n",
    "msg = \"Hello world\"\n",
    "print(msg)\n",
    "# ##\n",
    "# %%\n",
    "msg = \"Hola Mundo\"\n",
    "print(msg)\n",
    "# %%\n",
    "import numpy as np\n",
    "import pandas as pd\n",
    "\n",
    "print(\"hola\")\n",
    "\n",
    "# %%\n"
   ]
  },
  {
   "cell_type": "code",
   "execution_count": null,
   "metadata": {},
   "outputs": [],
   "source": []
  }
 ]
}